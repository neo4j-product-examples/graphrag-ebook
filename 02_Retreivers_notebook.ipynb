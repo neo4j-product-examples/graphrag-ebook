{
 "cells": [
  {
   "cell_type": "markdown",
   "metadata": {},
   "source": [
    "# Neo4j GraphRAG Retriever Notebook\n",
    "\n",
    "This notebook demonstrates how to use various retrievers and Cypher patterns with Neo4j GraphRAG for asset manager and cybersecurity risk retrieval.\n"
   ]
  },
  {
   "cell_type": "code",
   "execution_count": null,
   "metadata": {},
   "outputs": [],
   "source": [
    "import os\n",
    "from neo4j import GraphDatabase\n",
    "from neo4j_graphrag.llm import OpenAILLM\n",
    "from neo4j_graphrag.embeddings import OpenAIEmbeddings\n",
    "from neo4j_graphrag.retrievers import VectorRetriever, VectorCypherRetriever, Text2CypherRetriever\n",
    "from neo4j_graphrag.generation import GraphRAG\n",
    "from dotenv import load_dotenv\n",
    "import pandas as pd\n",
    "\n",
    "from IPython.display import display, HTML\n",
    "import textwrap\n",
    "\n",
    "from IPython.core.display import HTML\n",
    "display(HTML(\"<style>.output_area pre {white-space: pre-wrap; word-break: break-word;}</style>\"))\n",
    "\n",
    "# Load environment variables\n",
    "load_dotenv()\n",
    "NEO4J_URI = os.getenv('NEO4J_URI')\n",
    "NEO4J_USER = os.getenv('NEO4J_USERNAME')\n",
    "NEO4J_PASSWORD = os.getenv('NEO4J_PASSWORD')\n",
    "OPENAI_API_KEY = os.getenv('OPENAI_API_KEY')\n",
    "\n",
    "driver = GraphDatabase.driver(NEO4J_URI, auth=(NEO4J_USER, NEO4J_PASSWORD))\n"
   ]
  },
  {
   "cell_type": "code",
   "execution_count": null,
   "id": "93dcebaa",
   "metadata": {},
   "outputs": [],
   "source": [
    "OPENAI_API_KEY"
   ]
  },
  {
   "cell_type": "code",
   "execution_count": null,
   "metadata": {},
   "outputs": [],
   "source": [
    "# --- Initialize LLM and Embedder ---\n",
    "###model_params = {\"response_format\": {\"type\": \"json_object\"},  # use json_object formatting for best results\n",
    "###                \"temperature\": 0  # turning temperature down for more deterministic results\n",
    "###                }\n",
    "\n",
    "llm = OpenAILLM(model_name='gpt-4o', api_key=OPENAI_API_KEY)\n",
    "embedder = OpenAIEmbeddings(api_key=OPENAI_API_KEY)"
   ]
  },
  {
   "cell_type": "code",
   "execution_count": null,
   "metadata": {},
   "outputs": [],
   "source": [
    "# --- Initialize Vector Retriever ---\n",
    "\n",
    "query = \"What are the risks that Apple faces?\"\n",
    "\n",
    "vector_retriever = VectorRetriever(\n",
    "    driver=driver,\n",
    "    index_name='chunkEmbeddings',\n",
    "    embedder=embedder,\n",
    "    return_properties=['text'])"
   ]
  },
  {
   "cell_type": "code",
   "execution_count": null,
   "metadata": {},
   "outputs": [],
   "source": [
    "    # --- Simple Vector Search Diagnostic ---\n",
    "\n",
    "result = vector_retriever.search(query_text=query, top_k=10)\n",
    "result_table=pd.DataFrame([(item.metadata['score'], item.content[10:80], item.metadata['id']) for item in result.items], columns=['Score', 'Content', 'ID'])\n",
    "result_table"
   ]
  },
  {
   "cell_type": "code",
   "execution_count": null,
   "id": "43ab17e4",
   "metadata": {},
   "outputs": [],
   "source": [
    "rag = GraphRAG(\n",
    "    llm=llm,\n",
    "    retriever=vector_retriever\n",
    ")\n",
    "#print(textwrap.fill(rag.search(query).answer, width=80))\n",
    "print(rag.search(query).answer)"
   ]
  },
  {
   "cell_type": "code",
   "execution_count": null,
   "id": "af3edd9c",
   "metadata": {},
   "outputs": [],
   "source": [
    "# --- VectorCypherRetriever Example: Detailed Search with Context ---  OR WHY THIS IS A BAD QUERY :)\n",
    "\n",
    "detail_context_query = \"\"\"\n",
    "WITH node\n",
    "MATCH (node)-[:FROM_DOCUMENT]->(doc:Document)-[:FILED]->(company:Company)-[:FACES_RISK]->(risk:RiskFactor)\n",
    "RETURN company.name AS company,  node.text AS context, collect(DISTINCT risk.name) AS risks\n",
    "\"\"\"\n",
    "\n",
    "vector_cypher_retriever = VectorCypherRetriever(\n",
    "    driver=driver,\n",
    "    index_name='chunkEmbeddings',\n",
    "    embedder=embedder,\n",
    "    retrieval_query=detail_context_query\n",
    ")\n",
    "\n",
    "rag = GraphRAG(llm=llm, retriever=vector_cypher_retriever)\n",
    "query = \"What are the top risk factors that Apple faces?\"\n",
    "rag.search(query).answer"
   ]
  },
  {
   "cell_type": "code",
   "execution_count": null,
   "id": "98496584",
   "metadata": {},
   "outputs": [],
   "source": [
    "result = vector_cypher_retriever.search(query_text=query, top_k=10)\n",
    "for item in result.items:\n",
    "    print(item.content)"
   ]
  },
  {
   "cell_type": "code",
   "execution_count": null,
   "id": "280e3682",
   "metadata": {},
   "outputs": [],
   "source": [
    "result = vector_cypher_retriever.search(query_text=query, top_k=20)\n",
    "for item in result.items:\n",
    "    print(item.content)\n"
   ]
  },
  {
   "cell_type": "code",
   "execution_count": null,
   "id": "c18d5973",
   "metadata": {},
   "outputs": [],
   "source": [
    "# --- VectorCypherRetriever Example: Detailed Search with Context ---  OR WHY THIS IS A GOOD QUERY :)\n",
    "asset_manager_query = \"\"\"\n",
    "WITH node\n",
    "MATCH (node)-[:FROM_DOCUMENT]->(doc:Document)-[:FILED]->(company:Company)-[:OWNS]-(manager:AssetManager)\n",
    "RETURN company.name AS company, manager.managerName AS manager, node.text AS context\n",
    "\"\"\"\n",
    "\n",
    "vector_cypher_retriever = VectorCypherRetriever(\n",
    "    driver=driver,\n",
    "    index_name='chunkEmbeddings',\n",
    "    embedder=embedder,\n",
    "    retrieval_query=asset_manager_query\n",
    ")\n",
    "\n",
    "rag = GraphRAG(llm=llm, retriever=vector_cypher_retriever)\n",
    "query = \"Who are the asset managers most affected by banking regulations?\"\n",
    "rag.search(query).answer"
   ]
  },
  {
   "cell_type": "code",
   "execution_count": null,
   "id": "0df46d7d",
   "metadata": {},
   "outputs": [],
   "source": [
    "result = vector_cypher_retriever.search(query_text=query, top_k=10)\n",
    "for item in result.items:\n",
    "    print(item.content)"
   ]
  },
  {
   "cell_type": "code",
   "execution_count": null,
   "id": "9634b81a",
   "metadata": {},
   "outputs": [],
   "source": [
    "# --- Question Answering ---\n",
    "print(\"\\n--- Question Answering ---\")\n",
    "query = \"Compare Apple's and Microsoft's market positions\"\n",
    "compare_query = \"\"\"\n",
    "    MATCH (c1:Company {name: 'Apple'})-[:HAS_METRIC]-(m1:FinancialMetric)\n",
    "    MATCH (c2:Company {name: 'Microsoft'})-[:HAS_METRIC]-(m2:FinancialMetric)\n",
    "    RETURN c1, c2, collect(m1) as apple_metrics, collect(m2) as microsoft_metrics\n",
    "\"\"\"\n",
    "compare_cypher_retriever = VectorCypherRetriever(\n",
    "    driver=driver,\n",
    "    index_name=\"chunkEmbeddings\",\n",
    "    embedder=embedder,\n",
    "    retrieval_query=compare_query\n",
    ")\n",
    "compare_cypher_rag = GraphRAG(llm=llm, retriever=compare_cypher_retriever)\n",
    "response = compare_cypher_rag.search(query, retriever_config={'top_k': 3})\n",
    "print(\"\\nComparison Response:\")\n",
    "print(response.answer)\n",
    "response\n"
   ]
  },
  {
   "cell_type": "code",
   "execution_count": null,
   "id": "d08b6214",
   "metadata": {},
   "outputs": [],
   "source": [
    "vector_company_risk_query = \"\"\"\n",
    "WITH node\n",
    "MATCH (node)-[:FROM_DOCUMENT]->(doc:Document)-[:FILED]->(c1:Company)\n",
    "MATCH (c1)-[:FACES_RISK]->(risk:RiskFactor)<-[:FACES_RISK]-(c2:Company)\n",
    "WHERE c1 <> c2\n",
    "RETURN\n",
    "  c1.name AS source_company,\n",
    "  collect(DISTINCT c2.name) AS related_companies,\n",
    "  collect(DISTINCT risk.name) AS shared_risks\n",
    "LIMIT 10\n",
    "\"\"\"\n",
    "\n",
    "vector_cypher_retriever = VectorCypherRetriever(\n",
    "    driver=driver,\n",
    "    index_name=\"chunkEmbeddings\",\n",
    "    embedder=embedder,\n",
    "    retrieval_query=vector_company_risk_query\n",
    ")\n",
    "\n",
    "query = \"What risks connect major tech companies?\"\n",
    "result = vector_cypher_retriever.search(query_text=query, top_k=5)\n",
    "for item in result.items:\n",
    "    print(item.content)"
   ]
  },
  {
   "cell_type": "code",
   "execution_count": null,
   "id": "8dba3a38",
   "metadata": {},
   "outputs": [],
   "source": [
    "rag = GraphRAG(llm=llm, retriever=vector_cypher_retriever)\n",
    "query = \"What risks connect major tech companies?\"\n",
    "rag.search(query).answer\n"
   ]
  },
  {
   "cell_type": "code",
   "execution_count": null,
   "id": "ca64551c",
   "metadata": {},
   "outputs": [],
   "source": [
    "# --- Text2CypherRetriever Example ---\n",
    "from requests import session\n",
    "\n",
    "\n",
    "print(\"\\n--- Text2CypherRetriever Example ---\")\n",
    "text2cypher_retriever = Text2CypherRetriever(\n",
    "    driver=driver,\n",
    "    llm=llm,\n",
    "    neo4j_schema=\"(:Chunk)-[]-(:Document)-[]-(:Company),(:Company)-[]-(:RiskFactor)-[]-(:Company)-[]-(:AssetManager)\")\n",
    "\n",
    "query = \"Show me all companies managed by BlackRock and the risk factors they face.\"\n",
    "cypher_query = text2cypher_retriever.get_search_results(query)\n",
    "print(\"\\n--- Text2Cypher Output ---\")\n",
    "print(\"Original Query:\", query)\n",
    "print(\"Generated Cypher:\\n\", cypher_query.metadata[\"cypher\"])\n"
   ]
  },
  {
   "cell_type": "code",
   "execution_count": null,
   "id": "039b6ac9",
   "metadata": {},
   "outputs": [],
   "source": []
  }
 ],
 "metadata": {
  "kernelspec": {
   "display_name": "base",
   "language": "python",
   "name": "python3"
  },
  "language_info": {
   "codemirror_mode": {
    "name": "ipython",
    "version": 3
   },
   "file_extension": ".py",
   "mimetype": "text/x-python",
   "name": "python",
   "nbconvert_exporter": "python",
   "pygments_lexer": "ipython3",
   "version": "3.12.7"
  }
 },
 "nbformat": 4,
 "nbformat_minor": 5
}
