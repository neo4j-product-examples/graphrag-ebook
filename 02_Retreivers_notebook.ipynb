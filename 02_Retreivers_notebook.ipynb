{
 "cells": [
  {
   "cell_type": "markdown",
   "metadata": {},
   "source": [
    "# Neo4j GraphRAG Retriever Notebook\n",
    "\n",
    "This notebook demonstrates how to use various retrievers and Cypher patterns with Neo4j GraphRAG for asset manager and cybersecurity risk retrieval.\n"
   ]
  },
  {
   "cell_type": "code",
   "execution_count": null,
   "metadata": {},
   "outputs": [
    {
     "data": {
      "text/html": [
       "<style>.output_area pre {white-space: pre-wrap; word-break: break-word;}</style>"
      ],
      "text/plain": [
       "<IPython.core.display.HTML object>"
      ]
     },
     "metadata": {},
     "output_type": "display_data"
    }
   ],
   "source": [
    "import os\n",
    "from neo4j import GraphDatabase\n",
    "from neo4j_graphrag.llm import OpenAILLM\n",
    "from neo4j_graphrag.embeddings import OpenAIEmbeddings\n",
    "from neo4j_graphrag.retrievers import VectorRetriever, VectorCypherRetriever, Text2CypherRetriever\n",
    "from neo4j_graphrag.generation import GraphRAG\n",
    "from dotenv import load_dotenv\n",
    "import pandas as pd\n",
    "\n",
    "from IPython.display import display, HTML\n",
    "\n",
    "import textwrap\n",
    "\n",
    "from IPython.core.display import HTML\n",
    "display(HTML(\"<style>.output_area pre {white-space: pre-wrap; word-break: break-word;}</style>\"))\n",
    "\n",
    "# Load environment variables\n",
    "load_dotenv()\n",
    "NEO4J_URI = os.getenv('NEO4J_URI')\n",
    "NEO4J_USER = os.getenv('NEO4J_USERNAME')\n",
    "NEO4J_PASSWORD = os.getenv('NEO4J_PASSWORD')\n",
    "OPENAI_API_KEY = os.getenv('OPENAI_API_KEY')\n",
    "\n",
    "driver = GraphDatabase.driver(NEO4J_URI, auth=(NEO4J_USER, NEO4J_PASSWORD))\n"
   ]
  },
  {
   "cell_type": "code",
   "execution_count": null,
   "metadata": {},
   "outputs": [],
   "source": [
    "# --- Initialize LLM and Embedder ---\n",
    "###model_params = {\"response_format\": {\"type\": \"json_object\"},  # use json_object formatting for best results\n",
    "###                \"temperature\": 0  # turning temperature down for more deterministic results\n",
    "###                }\n",
    "\n",
    "llm = OpenAILLM(model_name='gpt-4o', api_key=openai_api_key)\n",
    "embedder = OpenAIEmbeddings(api_key=openai_api_key)"
   ]
  },
  {
   "cell_type": "code",
   "execution_count": 5,
   "metadata": {},
   "outputs": [],
   "source": [
    "# --- Initialize Vector Retriever ---\n",
    "\n",
    "query = \"What are the risks that Apple faces?\"\n",
    "\n",
    "vector_retriever = VectorRetriever(\n",
    "    driver=driver,\n",
    "    index_name='chunkEmbeddings',\n",
    "    embedder=embedder,\n",
    "    return_properties=['text'])"
   ]
  },
  {
   "cell_type": "code",
   "execution_count": 8,
   "metadata": {},
   "outputs": [
    {
     "data": {
      "text/html": [
       "<div>\n",
       "<style scoped>\n",
       "    .dataframe tbody tr th:only-of-type {\n",
       "        vertical-align: middle;\n",
       "    }\n",
       "\n",
       "    .dataframe tbody tr th {\n",
       "        vertical-align: top;\n",
       "    }\n",
       "\n",
       "    .dataframe thead th {\n",
       "        text-align: right;\n",
       "    }\n",
       "</style>\n",
       "<table border=\"1\" class=\"dataframe\">\n",
       "  <thead>\n",
       "    <tr style=\"text-align: right;\">\n",
       "      <th></th>\n",
       "      <th>Score</th>\n",
       "      <th>Content</th>\n",
       "      <th>ID</th>\n",
       "    </tr>\n",
       "  </thead>\n",
       "  <tbody>\n",
       "    <tr>\n",
       "      <th>0</th>\n",
       "      <td>0.916122</td>\n",
       "      <td>the Company to potential liabilities, increase...</td>\n",
       "      <td>4:f86fa30c-6448-4779-bdfc-2f048de6bb86:1492</td>\n",
       "    </tr>\n",
       "    <tr>\n",
       "      <th>1</th>\n",
       "      <td>0.912796</td>\n",
       "      <td>relief against the Company, and has\\nfrom time...</td>\n",
       "      <td>4:f86fa30c-6448-4779-bdfc-2f048de6bb86:1986</td>\n",
       "    </tr>\n",
       "    <tr>\n",
       "      <th>2</th>\n",
       "      <td>0.910751</td>\n",
       "      <td>interruptions can harm or disrupt internationa...</td>\n",
       "      <td>4:f86fa30c-6448-4779-bdfc-2f048de6bb86:1876</td>\n",
       "    </tr>\n",
       "    <tr>\n",
       "      <th>3</th>\n",
       "      <td>0.910599</td>\n",
       "      <td>in both\\nfrequency and sophistication with in...</td>\n",
       "      <td>4:f86fa30c-6448-4779-bdfc-2f048de6bb86:1946</td>\n",
       "    </tr>\n",
       "    <tr>\n",
       "      <th>4</th>\n",
       "      <td>0.909256</td>\n",
       "      <td>impact the Company\\'s net sales to its indirec...</td>\n",
       "      <td>4:f86fa30c-6448-4779-bdfc-2f048de6bb86:2897</td>\n",
       "    </tr>\n",
       "    <tr>\n",
       "      <th>5</th>\n",
       "      <td>0.908752</td>\n",
       "      <td>intended to be inactive\\ntextual references on...</td>\n",
       "      <td>4:f86fa30c-6448-4779-bdfc-2f048de6bb86:1875</td>\n",
       "    </tr>\n",
       "    <tr>\n",
       "      <th>6</th>\n",
       "      <td>0.908371</td>\n",
       "      <td>conditions and adverse economic conditions can...</td>\n",
       "      <td>4:f86fa30c-6448-4779-bdfc-2f048de6bb86:2911</td>\n",
       "    </tr>\n",
       "    <tr>\n",
       "      <th>7</th>\n",
       "      <td>0.907104</td>\n",
       "      <td>interruption\\naffecting such sources would exa...</td>\n",
       "      <td>4:f86fa30c-6448-4779-bdfc-2f048de6bb86:1877</td>\n",
       "    </tr>\n",
       "    <tr>\n",
       "      <th>8</th>\n",
       "      <td>0.906647</td>\n",
       "      <td>perception and analysis of the relative benefi...</td>\n",
       "      <td>4:f86fa30c-6448-4779-bdfc-2f048de6bb86:1906</td>\n",
       "    </tr>\n",
       "    <tr>\n",
       "      <th>9</th>\n",
       "      <td>0.906570</td>\n",
       "      <td>sults.\\nApple Inc. | 2023 Form 10-K | 25\\nSect...</td>\n",
       "      <td>4:f86fa30c-6448-4779-bdfc-2f048de6bb86:3113</td>\n",
       "    </tr>\n",
       "  </tbody>\n",
       "</table>\n",
       "</div>"
      ],
      "text/plain": [
       "      Score                                            Content  \\\n",
       "0  0.916122  the Company to potential liabilities, increase...   \n",
       "1  0.912796  relief against the Company, and has\\nfrom time...   \n",
       "2  0.910751  interruptions can harm or disrupt internationa...   \n",
       "3  0.910599   in both\\nfrequency and sophistication with in...   \n",
       "4  0.909256  impact the Company\\'s net sales to its indirec...   \n",
       "5  0.908752  intended to be inactive\\ntextual references on...   \n",
       "6  0.908371  conditions and adverse economic conditions can...   \n",
       "7  0.907104  interruption\\naffecting such sources would exa...   \n",
       "8  0.906647  perception and analysis of the relative benefi...   \n",
       "9  0.906570  sults.\\nApple Inc. | 2023 Form 10-K | 25\\nSect...   \n",
       "\n",
       "                                            ID  \n",
       "0  4:f86fa30c-6448-4779-bdfc-2f048de6bb86:1492  \n",
       "1  4:f86fa30c-6448-4779-bdfc-2f048de6bb86:1986  \n",
       "2  4:f86fa30c-6448-4779-bdfc-2f048de6bb86:1876  \n",
       "3  4:f86fa30c-6448-4779-bdfc-2f048de6bb86:1946  \n",
       "4  4:f86fa30c-6448-4779-bdfc-2f048de6bb86:2897  \n",
       "5  4:f86fa30c-6448-4779-bdfc-2f048de6bb86:1875  \n",
       "6  4:f86fa30c-6448-4779-bdfc-2f048de6bb86:2911  \n",
       "7  4:f86fa30c-6448-4779-bdfc-2f048de6bb86:1877  \n",
       "8  4:f86fa30c-6448-4779-bdfc-2f048de6bb86:1906  \n",
       "9  4:f86fa30c-6448-4779-bdfc-2f048de6bb86:3113  "
      ]
     },
     "execution_count": 8,
     "metadata": {},
     "output_type": "execute_result"
    }
   ],
   "source": [
    "    # --- Simple Vector Search Diagnostic ---\n",
    "\n",
    "result = vector_retriever.search(query_text=query, top_k=10)\n",
    "result_table=pd.DataFrame([(item.metadata['score'], item.content[10:80], item.metadata['id']) for item in result.items], columns=['Score', 'Content', 'ID'])\n",
    "result_table"
   ]
  },
  {
   "cell_type": "code",
   "execution_count": 9,
   "id": "43ab17e4",
   "metadata": {},
   "outputs": [
    {
     "name": "stdout",
     "output_type": "stream",
     "text": [
      "Apple faces several risks, including:\n",
      "\n",
      "1. **Regulatory and Compliance Risks:** The company is subject to complex and changing laws and regulations worldwide, including those related to antitrust, privacy, data security, consumer protection, and environmental, social, and governance considerations. Failure to comply with these can lead to legal proceedings, increased costs, and adverse effects on the business.\n",
      "\n",
      "2. **App Store Changes and Antitrust Investigations:** Apple has made changes to its App Store in response to legal and regulatory requirements and is subject to antitrust investigations around the world. Adverse findings could lead to significant fines and mandatory changes to its App Store business, impacting operations and financial performance.\n",
      "\n",
      "3. **International Trade and Supply Chain Risks:** Restrictions on international trade, such as tariffs and import/export controls, can disrupt operations and supply chains. Tensions between countries, like the U.S. and China, may lead to further restrictive measures.\n",
      "\n",
      "4. **Operational Interruptions and Natural Disasters:** Apple's operations can be affected by natural disasters, industrial accidents, and other disruptive events. These can impact manufacturing, supply chain, and service offerings, among other areas.\n",
      "\n",
      "5. **Cybersecurity Threats:** Due to its high profile, Apple is at risk of malicious attacks aiming to access confidential information. While the company has measures in place to secure its information technology systems, these may not be sufficient to prevent all incidents.\n",
      "\n",
      "6. **Investment and Acquisition Risks:** Engaging in new business strategies and acquisitions involves risks such as management distraction, unforeseen liabilities, regulatory challenges, and potential failure, which can adversely impact the company.\n",
      "\n",
      "7. **Reputational Risks:** Failure to adequately address environmental, social, and governance expectations, or to comply with associated regulations, could result in reputational harm and financial impacts.\n",
      "\n",
      "These risks collectively could materially adversely affect Apple's business, reputation, results of operations, and financial condition.\n"
     ]
    }
   ],
   "source": [
    "rag = GraphRAG(\n",
    "    llm=llm,\n",
    "    retriever=vector_retriever\n",
    ")\n",
    "#print(textwrap.fill(rag.search(query).answer, width=80))\n",
    "print(rag.search(query).answer)"
   ]
  },
  {
   "cell_type": "code",
   "execution_count": 11,
   "id": "af3edd9c",
   "metadata": {},
   "outputs": [
    {
     "name": "stdout",
     "output_type": "stream",
     "text": [
      "Apple faces several top risk factors, including:  1. **Market Competition:**\n",
      "Apple operates in highly competitive markets for its products, including\n",
      "smartphones, tablets, and PCs, which puts pressure on pricing and innovation.\n",
      "2. **Supply Chain Dependency:** Apple's reliance on a complex global supply\n",
      "chain exposes it to risks such as manufacturing disruptions, geopolitical\n",
      "tensions, and trade restrictions.  3. **Regulatory and Legal Challenges:** The\n",
      "company faces ongoing scrutiny and potential legal challenges related to\n",
      "antitrust issues, privacy laws, and various international regulations.  4.\n",
      "**Technological Changes:** Rapid advancements in technology necessitate\n",
      "continuous innovation, and failure to keep pace could affect Apple's market\n",
      "position.  5. **Economic Conditions:** Global economic fluctuations can affect\n",
      "consumer spending power, impacting sales and profitability for Apple’s premium\n",
      "products.  6. **Cybersecurity Threats:** As a tech company, Apple is at risk\n",
      "from cybersecurity threats which could compromise customer data and affect brand\n",
      "trust.  7. **Dependence on Key Products:** A significant portion of Apple’s\n",
      "revenue is derived from a few flagship products, such as the iPhone, risking\n",
      "over-dependence.  8. **Exchange Rate Risks:** As a company with extensive\n",
      "international operations, fluctuations in currency exchange rates can affect\n",
      "Apple’s earnings.  9. **Innovation Pressure:** Consumers expect consistent\n",
      "breakthrough innovations from Apple, and any perceived stagnation could lead to\n",
      "decreased brand loyalty.  10. **Regulations on Digital Services:** Increasing\n",
      "regulations around digital services and app stores could impact Apple's services\n",
      "business, an important growth area for the company.\n"
     ]
    }
   ],
   "source": [
    "# --- VectorCypherRetriever Example: Detailed Search with Context ---\n",
    "\n",
    "query = \"What are the top risk factors that Apple faces?\"\n",
    "\n",
    "detail_context_query = \"\"\"\n",
    "    with node\n",
    "    MATCH (node)-[:FROM_DOCUMENT]-(doc:Document)-[:FILED]-(company:Company)-[:FACES_RISK]-(r:RiskFactor)\n",
    "    RETURN node.text AS context,  collect(DISTINCT r) AS risks\n",
    "    LIMIT 10\n",
    "\"\"\"\n",
    "vector_cypher_retriever = VectorCypherRetriever(\n",
    "    driver=driver,\n",
    "    index_name='chunkEmbeddings',\n",
    "    embedder=embedder,\n",
    "    retrieval_query=detail_context_query\n",
    ")\n",
    "\n",
    "rag = GraphRAG(llm=llm, retriever=vector_cypher_retriever)\n",
    "print(textwrap.fill(rag.search(query).answer, width=80))\n",
    "# print(rag.search(query).answer)"
   ]
  },
  {
   "cell_type": "code",
   "execution_count": 98,
   "id": "9634b81a",
   "metadata": {},
   "outputs": [
    {
     "name": "stdout",
     "output_type": "stream",
     "text": [
      "\n",
      "--- Question Answering ---\n",
      "\n",
      "Comparison Response:\n",
      "As of the latest data available up to October 2023, Apple and Microsoft both hold strong positions in the technology sector, each excelling in different areas of the market.\n",
      "\n",
      "Apple:\n",
      "1. **Consumer Electronics Dominance**: Apple is a leader in consumer electronics, particularly with its iPhone, iPad, and Mac product lines. The company has a loyal customer base and is known for its premium pricing strategy, which contributes to high profit margins.\n",
      "\n",
      "2. **Ecosystem and Services**: Apple's ecosystem, which includes the App Store, iCloud, Apple Music, and other services, creates a seamless user experience and generates a substantial portion of its revenue. The services segment has been growing steadily, providing recurring revenue streams.\n",
      "\n",
      "3. **Innovation**: Apple is renowned for its innovation in hardware and design, consistently setting trends within the market. This is evidenced by its development of new product lines such as Apple Watch and AirPods, which have been quite successful.\n",
      "\n",
      "Microsoft:\n",
      "1. **Software Leadership**: Microsoft dominates the software market with its Windows operating system and Office productivity suite. These products are widely used in both consumer and enterprise environments, offering stable and recurring revenue.\n",
      "\n",
      "2. **Cloud Computing**: Through its Azure platform, Microsoft has become a significant player in the cloud computing sector. Azure is frequently recognized as a primary competitor to Amazon Web Services (AWS), and this segment has been a major growth driver for the company.\n",
      "\n",
      "3. **Enterprise Solutions**: Microsoft's focus extends heavily into enterprise solutions, further bolstered by acquisitions such as LinkedIn and GitHub. These acquisitions complement its existing offerings and expand its market reach.\n",
      "\n",
      "In summary, while Apple excels in consumer electronics and maintains a robust ecosystem, Microsoft leads in software solutions and enterprise services, with a significant emphasis on cloud computing. Both companies continue to compete and innovate within the tech industry, but they do so from somewhat different market focuses—Apple targeting consumer products and experiences, and Microsoft focusing on software and business solutions.\n"
     ]
    },
    {
     "data": {
      "text/plain": [
       "RagResultModel(answer=\"As of the latest data available up to October 2023, Apple and Microsoft both hold strong positions in the technology sector, each excelling in different areas of the market.\\n\\nApple:\\n1. **Consumer Electronics Dominance**: Apple is a leader in consumer electronics, particularly with its iPhone, iPad, and Mac product lines. The company has a loyal customer base and is known for its premium pricing strategy, which contributes to high profit margins.\\n\\n2. **Ecosystem and Services**: Apple's ecosystem, which includes the App Store, iCloud, Apple Music, and other services, creates a seamless user experience and generates a substantial portion of its revenue. The services segment has been growing steadily, providing recurring revenue streams.\\n\\n3. **Innovation**: Apple is renowned for its innovation in hardware and design, consistently setting trends within the market. This is evidenced by its development of new product lines such as Apple Watch and AirPods, which have been quite successful.\\n\\nMicrosoft:\\n1. **Software Leadership**: Microsoft dominates the software market with its Windows operating system and Office productivity suite. These products are widely used in both consumer and enterprise environments, offering stable and recurring revenue.\\n\\n2. **Cloud Computing**: Through its Azure platform, Microsoft has become a significant player in the cloud computing sector. Azure is frequently recognized as a primary competitor to Amazon Web Services (AWS), and this segment has been a major growth driver for the company.\\n\\n3. **Enterprise Solutions**: Microsoft's focus extends heavily into enterprise solutions, further bolstered by acquisitions such as LinkedIn and GitHub. These acquisitions complement its existing offerings and expand its market reach.\\n\\nIn summary, while Apple excels in consumer electronics and maintains a robust ecosystem, Microsoft leads in software solutions and enterprise services, with a significant emphasis on cloud computing. Both companies continue to compete and innovate within the tech industry, but they do so from somewhat different market focuses—Apple targeting consumer products and experiences, and Microsoft focusing on software and business solutions.\", retriever_result=None)"
      ]
     },
     "execution_count": 98,
     "metadata": {},
     "output_type": "execute_result"
    }
   ],
   "source": [
    "# --- Question Answering ---\n",
    "print(\"\\n--- Question Answering ---\")\n",
    "query = \"Compare Apple's and Microsoft's market positions\"\n",
    "compare_query = \"\"\"\n",
    "    MATCH (c1:Company {name: 'Apple'})-[:HAS_METRIC]-(m1:FinancialMetric)\n",
    "    MATCH (c2:Company {name: 'Microsoft'})-[:HAS_METRIC]-(m2:FinancialMetric)\n",
    "    RETURN c1, c2, collect(m1) as apple_metrics, collect(m2) as microsoft_metrics\n",
    "\"\"\"\n",
    "compare_cypher_retriever = VectorCypherRetriever(\n",
    "    driver=driver,\n",
    "    index_name=\"chunkEmbeddings\",\n",
    "    embedder=embedder,\n",
    "    retrieval_query=compare_query\n",
    ")\n",
    "compare_cypher_rag = GraphRAG(llm=llm, retriever=compare_cypher_retriever)\n",
    "response = compare_cypher_rag.search(query, retriever_config={'top_k': 3})\n",
    "print(\"\\nComparison Response:\")\n",
    "print(response.answer)\n",
    "response\n"
   ]
  },
  {
   "cell_type": "code",
   "execution_count": 19,
   "id": "ca64551c",
   "metadata": {},
   "outputs": [
    {
     "name": "stdout",
     "output_type": "stream",
     "text": [
      "\n",
      "--- Text2CypherRetriever Example ---\n",
      "\n",
      "--- Text2Cypher Output ---\n",
      "Original Query: Show me all companies managed by BlackRock and the risk factors they face.\n",
      "Generated Cypher:\n",
      " cypher\n",
      "MATCH (am:AssetManager)-[]-(c:Company)-[]-(rf:RiskFactor)\n",
      "WHERE am.name = 'BlackRock'\n",
      "RETURN c.name AS Company, rf.name AS RiskFactor\n",
      "\n"
     ]
    }
   ],
   "source": [
    "# --- Text2CypherRetriever Example ---\n",
    "from requests import session\n",
    "\n",
    "\n",
    "print(\"\\n--- Text2CypherRetriever Example ---\")\n",
    "text2cypher_retriever = Text2CypherRetriever(\n",
    "    driver=driver,\n",
    "    llm=llm,\n",
    "    neo4j_schema=\"(:Chunk)-[]-(:Document)-[]-(:Company),(:Company)-[]-(:RiskFactor)-[]-(:Company)-[]-(:AssetManager)\")\n",
    "\n",
    "query = \"Show me all companies managed by BlackRock and the risk factors they face.\"\n",
    "cypher_query = text2cypher_retriever.get_search_results(query)\n",
    "print(\"\\n--- Text2Cypher Output ---\")\n",
    "print(\"Original Query:\", query)\n",
    "print(\"Generated Cypher:\\n\", cypher_query.metadata[\"cypher\"])\n"
   ]
  }
 ],
 "metadata": {
  "kernelspec": {
   "display_name": "Python 3",
   "language": "python",
   "name": "python3"
  },
  "language_info": {
   "codemirror_mode": {
    "name": "ipython",
    "version": 3
   },
   "file_extension": ".py",
   "mimetype": "text/x-python",
   "name": "python",
   "nbconvert_exporter": "python",
   "pygments_lexer": "ipython3",
   "version": "3.10.11"
  }
 },
 "nbformat": 4,
 "nbformat_minor": 5
}
