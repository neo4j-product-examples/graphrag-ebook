{
 "cells": [
  {
   "cell_type": "markdown",
   "metadata": {},
   "source": [
    "# Neo4j GraphRAG Retriever Notebook\n",
    "\n",
    "This notebook demonstrates how to use various retrievers and Cypher patterns with Neo4j GraphRAG for asset manager and cybersecurity risk retrieval.\n"
   ]
  },
  {
   "cell_type": "code",
   "execution_count": 145,
   "metadata": {},
   "outputs": [
    {
     "data": {
      "text/html": [
       "<style>.output_area pre {white-space: pre-wrap; word-break: break-word;}</style>"
      ],
      "text/plain": [
       "<IPython.core.display.HTML object>"
      ]
     },
     "metadata": {},
     "output_type": "display_data"
    }
   ],
   "source": [
    "import os\n",
    "from neo4j import GraphDatabase\n",
    "from neo4j_graphrag.llm import OpenAILLM\n",
    "from neo4j_graphrag.embeddings import OpenAIEmbeddings\n",
    "from neo4j_graphrag.retrievers import VectorRetriever, VectorCypherRetriever, Text2CypherRetriever\n",
    "from neo4j_graphrag.generation import GraphRAG\n",
    "from neo4j_graphrag import schema\n",
    "from dotenv import load_dotenv\n",
    "import pandas as pd\n",
    "from IPython.display import display, HTML\n",
    "import textwrap\n",
    "\n",
    "from IPython.core.display import HTML\n",
    "display(HTML(\"<style>.output_area pre {white-space: pre-wrap; word-break: break-word;}</style>\"))\n",
    "\n",
    "# Load environment variables\n",
    "load_dotenv()\n",
    "NEO4J_URI = os.getenv('NEO4J_URI')\n",
    "NEO4J_USER = os.getenv('NEO4J_USERNAME')\n",
    "NEO4J_PASSWORD = os.getenv('NEO4J_PASSWORD')\n",
    "OPENAI_API_KEY = os.getenv('OPENAI_API_KEY')\n",
    "\n",
    "driver = GraphDatabase.driver(NEO4J_URI, auth=(NEO4J_USER, NEO4J_PASSWORD))\n"
   ]
  },
  {
   "cell_type": "markdown",
   "id": "e4a11b68",
   "metadata": {},
   "source": [
    "## Initialize LLM and Embedder\n",
    "\n",
    "This section sets up the Large Language Model (LLM) and the embedding model for use in retrieval-augmented generation (RAG) workflows.\n",
    "\n",
    "- **LLM**: Uses OpenAI's GPT-4o model via the `OpenAILLM` interface.\n",
    "- **Embedder**: Uses OpenAI's embedding API via the `OpenAIEmbeddings` class.\n",
    "\n",
    "> **Note:**  \n",
    "> - The `OPENAI_API_KEY` must be set in your environment variables or [.env](cci:7://file:///c:/Users/Alison%20Cossette/OneDrive/GitHub/graphrag-ebook/.env:0:0-0:0) file.\n",
    "> - You can adjust model parameters (such as response format or temperature) by modifying the commented-out `model_params` dictionary if needed.\n"
   ]
  },
  {
   "cell_type": "code",
   "execution_count": 129,
   "metadata": {},
   "outputs": [],
   "source": [
    "# --- Initialize LLM and Embedder ---\n",
    "###model_params = {\"response_format\": {\"type\": \"json_object\"},  # use json_object formatting for best results\n",
    "###                \"temperature\": 0  # turning temperature down for more deterministic results\n",
    "###                }\n",
    "\n",
    "llm = OpenAILLM(model_name='gpt-4o', api_key=OPENAI_API_KEY)\n",
    "embedder = OpenAIEmbeddings(api_key=OPENAI_API_KEY)"
   ]
  },
  {
   "cell_type": "markdown",
   "id": "90c283c9",
   "metadata": {},
   "source": [
    "# Initialize Vector Retrieve\n",
    "\n",
    "This section sets up the vector-based retriever for semantic search over your Neo4j knowledge graph.\n",
    "\n",
    "- **Query:**  \n",
    "  The example query asks, \"What are the risks that Apple faces?\"\n",
    "\n",
    "- **VectorRetriever:**  \n",
    "  - Connects to the Neo4j database using the provided `driver`.\n",
    "  - Uses the `chunkEmbeddings` vector index for efficient semantic retrieval.\n",
    "  - The `embedder` generates embeddings for the query.\n",
    "  - Returns the `text` property from matching chunks.\n",
    "\n",
    "> **Tip:**  \n",
    "> You can modify the `return_properties` list to include additional properties from the retrieved nodes if needed."
   ]
  },
  {
   "cell_type": "code",
   "execution_count": 130,
   "metadata": {},
   "outputs": [],
   "source": [
    "# --- Initialize Vector Retriever ---\n",
    "\n",
    "query = \"What are the risks that Apple faces?\"\n",
    "\n",
    "vector_retriever = VectorRetriever(\n",
    "    driver=driver,\n",
    "    index_name='chunkEmbeddings',\n",
    "    embedder=embedder,\n",
    "    return_properties=['text'])"
   ]
  },
  {
   "cell_type": "markdown",
   "id": "a8bf0a0b",
   "metadata": {},
   "source": [
    "# Simple Vector Search Diagnostic \n",
    "\n",
    "This section performs a diagnostic semantic search using the vector retriever.\n",
    "\n",
    "- **Purpose:**  \n",
    "  Quickly test the vector search by retrieving the top 10 most relevant text chunks from the Neo4j knowledge graph for the given query.\n",
    "\n",
    "- **How it works:**  \n",
    "  1. `vector_retriever.search()` runs the query and returns the top 10 matches based on vector similarity.\n",
    "  2. The results are formatted into a pandas DataFrame, displaying:\n",
    "     - The similarity score (`Score`)\n",
    "     - A snippet of the retrieved content (`Content`)\n",
    "     - The unique identifier for each chunk (`ID`)\n",
    "\n",
    "- **Usage:**  \n",
    "  This diagnostic helps you verify that the vector search is working and inspect the quality of the top results for your query.\n"
   ]
  },
  {
   "cell_type": "code",
   "execution_count": 131,
   "metadata": {},
   "outputs": [
    {
     "data": {
      "text/html": [
       "<div>\n",
       "<style scoped>\n",
       "    .dataframe tbody tr th:only-of-type {\n",
       "        vertical-align: middle;\n",
       "    }\n",
       "\n",
       "    .dataframe tbody tr th {\n",
       "        vertical-align: top;\n",
       "    }\n",
       "\n",
       "    .dataframe thead th {\n",
       "        text-align: right;\n",
       "    }\n",
       "</style>\n",
       "<table border=\"1\" class=\"dataframe\">\n",
       "  <thead>\n",
       "    <tr style=\"text-align: right;\">\n",
       "      <th></th>\n",
       "      <th>Score</th>\n",
       "      <th>Content</th>\n",
       "      <th>ID</th>\n",
       "    </tr>\n",
       "  </thead>\n",
       "  <tbody>\n",
       "    <tr>\n",
       "      <th>0</th>\n",
       "      <td>0.917160</td>\n",
       "      <td>the Company to potential liabilities, increase...</td>\n",
       "      <td>4:f1cafbd2-0707-4e3e-85c0-a0db9997e611:2609</td>\n",
       "    </tr>\n",
       "    <tr>\n",
       "      <th>1</th>\n",
       "      <td>0.913208</td>\n",
       "      <td>relief against the Company, and has\\nfrom time...</td>\n",
       "      <td>4:f1cafbd2-0707-4e3e-85c0-a0db9997e611:2608</td>\n",
       "    </tr>\n",
       "    <tr>\n",
       "      <th>2</th>\n",
       "      <td>0.912186</td>\n",
       "      <td>in both\\nfrequency and sophistication with in...</td>\n",
       "      <td>4:f1cafbd2-0707-4e3e-85c0-a0db9997e611:2604</td>\n",
       "    </tr>\n",
       "    <tr>\n",
       "      <th>3</th>\n",
       "      <td>0.910889</td>\n",
       "      <td>interruptions can harm or disrupt internationa...</td>\n",
       "      <td>4:f1cafbd2-0707-4e3e-85c0-a0db9997e611:2581</td>\n",
       "    </tr>\n",
       "    <tr>\n",
       "      <th>4</th>\n",
       "      <td>0.909760</td>\n",
       "      <td>impact the Company\\'s net sales to its indirec...</td>\n",
       "      <td>4:f1cafbd2-0707-4e3e-85c0-a0db9997e611:2567</td>\n",
       "    </tr>\n",
       "    <tr>\n",
       "      <th>5</th>\n",
       "      <td>0.908386</td>\n",
       "      <td>conditions and adverse economic conditions can...</td>\n",
       "      <td>4:f1cafbd2-0707-4e3e-85c0-a0db9997e611:2594</td>\n",
       "    </tr>\n",
       "    <tr>\n",
       "      <th>6</th>\n",
       "      <td>0.907928</td>\n",
       "      <td>intended to be inactive\\ntextual references on...</td>\n",
       "      <td>4:f1cafbd2-0707-4e3e-85c0-a0db9997e611:2575</td>\n",
       "    </tr>\n",
       "    <tr>\n",
       "      <th>7</th>\n",
       "      <td>0.907669</td>\n",
       "      <td>perception and analysis of the relative benefi...</td>\n",
       "      <td>4:f1cafbd2-0707-4e3e-85c0-a0db9997e611:2597</td>\n",
       "    </tr>\n",
       "    <tr>\n",
       "      <th>8</th>\n",
       "      <td>0.907288</td>\n",
       "      <td>interruption\\naffecting such sources would exa...</td>\n",
       "      <td>4:f1cafbd2-0707-4e3e-85c0-a0db9997e611:2588</td>\n",
       "    </tr>\n",
       "    <tr>\n",
       "      <th>9</th>\n",
       "      <td>0.907242</td>\n",
       "      <td>sults.\\nApple Inc. | 2023 Form 10-K | 25\\nSect...</td>\n",
       "      <td>4:f1cafbd2-0707-4e3e-85c0-a0db9997e611:2623</td>\n",
       "    </tr>\n",
       "  </tbody>\n",
       "</table>\n",
       "</div>"
      ],
      "text/plain": [
       "      Score  ...                                           ID\n",
       "0  0.917160  ...  4:f1cafbd2-0707-4e3e-85c0-a0db9997e611:2609\n",
       "1  0.913208  ...  4:f1cafbd2-0707-4e3e-85c0-a0db9997e611:2608\n",
       "2  0.912186  ...  4:f1cafbd2-0707-4e3e-85c0-a0db9997e611:2604\n",
       "3  0.910889  ...  4:f1cafbd2-0707-4e3e-85c0-a0db9997e611:2581\n",
       "4  0.909760  ...  4:f1cafbd2-0707-4e3e-85c0-a0db9997e611:2567\n",
       "5  0.908386  ...  4:f1cafbd2-0707-4e3e-85c0-a0db9997e611:2594\n",
       "6  0.907928  ...  4:f1cafbd2-0707-4e3e-85c0-a0db9997e611:2575\n",
       "7  0.907669  ...  4:f1cafbd2-0707-4e3e-85c0-a0db9997e611:2597\n",
       "8  0.907288  ...  4:f1cafbd2-0707-4e3e-85c0-a0db9997e611:2588\n",
       "9  0.907242  ...  4:f1cafbd2-0707-4e3e-85c0-a0db9997e611:2623\n",
       "\n",
       "[10 rows x 3 columns]"
      ]
     },
     "execution_count": 131,
     "metadata": {},
     "output_type": "execute_result"
    }
   ],
   "source": [
    "    # --- Simple Vector Search Diagnostic ---\n",
    "\n",
    "result = vector_retriever.search(query_text=query, top_k=10)\n",
    "result_table=pd.DataFrame([(item.metadata['score'], item.content[10:80], item.metadata['id']) for item in result.items], columns=['Score', 'Content', 'ID'])\n",
    "result_table"
   ]
  },
  {
   "cell_type": "markdown",
   "id": "3df02256",
   "metadata": {},
   "source": [
    "# Retrieval-Augmented Generation (RAG) Query\n",
    "\n",
    "This section demonstrates how to use the `GraphRAG` class to perform a retrieval-augmented generation workflow:\n",
    "\n",
    "- **GraphRAG**:  \n",
    "  Combines a Large Language Model (LLM) with a vector-based retriever to answer questions using both semantic search and generative reasoning.\n",
    "\n",
    "- **How it works:**  \n",
    "  1. The retriever (`vector_retriever`) finds the most relevant text chunks from the Neo4j graph based on the input query.\n",
    "  2. The LLM (`llm`) uses the retrieved context to generate a natural language answer.\n",
    "  3. The answer is printed directly.\n",
    "\n",
    "- **Usage:**  \n",
    "  This approach provides context-aware, accurate answers grounded in your knowledge graph data.\n"
   ]
  },
  {
   "cell_type": "code",
   "execution_count": 132,
   "id": "43ab17e4",
   "metadata": {},
   "outputs": [
    {
     "name": "stdout",
     "output_type": "stream",
     "text": [
      "Apple faces a variety of risks, including:\n",
      "\n",
      "1. **Environmental, Social, and Governance (ESG) Considerations**: Failing or being perceived to fail in achieving announced ESG goals and initiatives can lead to legal and regulatory proceedings, negatively impacting business reputation and financial condition.\n",
      "\n",
      "2. **Regulatory Scrutiny and Legal Challenges**: The company is under intense media, political, and regulatory scrutiny, especially regarding its App Store practices, which can lead to investigations, legal actions, and financial penalties.\n",
      "\n",
      "3. **Complex Laws and Regulations**: Apple's global operations expose it to changing and complex laws on antitrust, privacy, consumer protection, and more, which can increase operational costs and affect business practices.\n",
      "\n",
      "4. **Data Security Risks**: As a high-profile target, Apple faces significant data security threats, and while it implements security measures, these may not be completely effective against sophisticated attacks.\n",
      "\n",
      "5. **Market Changes and Competition**: The technology industry is intensely competitive, and changes due to competition, market conditions, or legislation, such as the EU Digital Markets Act, can affect Apple’s business strategies.\n",
      "\n",
      "6. **International Trade Restrictions**: Trade tensions and tariffs, particularly between the U.S. and China, can disrupt Apple's supply chain and operations, adversely affecting its business.\n",
      "\n",
      "7. **Natural Disasters and Climate Change**: Operations are vulnerable to natural disasters, industrial accidents, and climate change effects, which can significantly disrupt manufacturing and sales.\n",
      "\n",
      "8. **Human Capital Management**: Apple emphasizes inclusion, diversity, and employee engagement, yet faces risks related to workplace practices, compensation, and employee satisfaction and safety.\n",
      "\n",
      "9. **Investments and Acquisitions**: Investments in new business strategies or acquisitions carry risks, including management distraction and potential failure to achieve expected benefits.\n",
      "\n",
      "These challenges collectively pose risks to Apple's business operations, reputation, and financial health.\n"
     ]
    }
   ],
   "source": [
    "rag = GraphRAG(\n",
    "    llm=llm,\n",
    "    retriever=vector_retriever\n",
    ")\n",
    "#print(textwrap.fill(rag.search(query).answer, width=80))\n",
    "print(rag.search(query).answer)"
   ]
  },
  {
   "cell_type": "markdown",
   "id": "ac8d1733",
   "metadata": {},
   "source": [
    "## Advanced RAG: Contextual Cypher Retrieval\n",
    "\n",
    "This section demonstrates how to use a custom Cypher query with the `VectorCypherRetriever` to provide richer, more contextual answers.\n",
    "\n",
    "- **Custom Cypher Query:**  \n",
    "  The `detail_context_query` matches text chunks (`node`) to their source documents, associated companies, and the risk factors those companies face.  \n",
    "  It returns:\n",
    "  - The company name\n",
    "  - The context text from the chunk\n",
    "  - A list of distinct risk factors\n",
    "\n",
    "- **VectorCypherRetriever:**  \n",
    "  - Performs semantic search using the `chunkEmbeddings` vector index.\n",
    "  - Applies the custom Cypher query to retrieve relevant context and associated risk factors.\n",
    "\n",
    "- **GraphRAG:**  \n",
    "  - Combines the LLM and the custom retriever to answer the question:  \n",
    "    _\"What are the top risk factors that Apple faces?\"_\n",
    "\n",
    "- **Usage:**  \n",
    "  This approach enables highly specific, context-rich answers by leveraging the full power of graph relationships and semantic search.\n"
   ]
  },
  {
   "cell_type": "code",
   "execution_count": 133,
   "id": "af3edd9c",
   "metadata": {},
   "outputs": [
    {
     "name": "stdout",
     "output_type": "stream",
     "text": [
      "Apple faces several significant risk factors, including:\n",
      "\n",
      "1. **Market Competition**: Apple operates in highly competitive markets, including smartphones, tablets, wearables, and personal computers. The intense competition from manufacturers like Samsung, Google, and Huawei can affect Apple's market share and profitability.\n",
      "\n",
      "2. **Supply Chain Disruptions**: Apple's reliance on a global supply chain makes it vulnerable to disruptions caused by geopolitical tensions, natural disasters, or health crises like the COVID-19 pandemic. Such disruptions can affect production and supply of components.\n",
      "\n",
      "3. **Regulatory Challenges**: Apple faces scrutiny from regulatory bodies worldwide concerning antitrust issues, privacy practices, and tax policies. Adverse regulations or legal rulings can impact Apple's operations and financial performance.\n",
      "\n",
      "4. **Technological Changes**: The technology industry is fast-paced, with rapid changes and innovations. Apple's ability to innovate and adapt to changing technologies is crucial. Failure to do so can lead to losing the competitive edge.\n",
      "\n",
      "5. **Dependence on Key Products**: A significant portion of Apple's revenue comes from a few products, like the iPhone. Heavy reliance on these key products makes Apple's financial health sensitive to fluctuations in demand.\n",
      "\n",
      "6. **Intellectual Property and Cybersecurity**: Protecting its intellectual property is vital for Apple. Additionally, cyber threats and data breaches are major risks that can harm Apple's reputation and lead to financial loss.\n",
      "\n",
      "7. **Economic Fluctuations**: Global economic variations, including recessions or currency fluctuations, can affect consumer spending patterns, impacting Apple’s sales and profitability.\n",
      "\n",
      "8. **Environmental and Social Governance (ESG) Concerns**: Increasing focus on sustainability and corporate ethics put pressure on Apple to maintain environmentally and socially responsible practices. Failing to meet ESG expectations can damage Apple’s brand image.\n",
      "\n",
      "Overall, Apple's ability to navigate these risks is essential for sustaining its market position and ensuring long-term growth.\n"
     ]
    }
   ],
   "source": [
    "# --- VectorCypherRetriever Example: Detailed Search with Context ---  OR WHY THIS IS A BAD QUERY :)\n",
    "\n",
    "detail_context_query = \"\"\"\n",
    "WITH node\n",
    "MATCH (node)-[:FROM_DOCUMENT]->(doc:Document)-[:FILED]->(company:Company)-[:FACES_RISK]->(risk:RiskFactor)\n",
    "RETURN company.name AS company,  node.text AS context, collect(DISTINCT risk.name) AS risks\n",
    "\"\"\"\n",
    "\n",
    "vector_cypher_retriever = VectorCypherRetriever(\n",
    "    driver=driver,\n",
    "    index_name='chunkEmbeddings',\n",
    "    embedder=embedder,\n",
    "    retrieval_query=detail_context_query\n",
    ")\n",
    "\n",
    "rag = GraphRAG(llm=llm, retriever=vector_cypher_retriever)\n",
    "query = \"What are the top risk factors that Apple faces?\"\n",
    "print(rag.search(query).answer)"
   ]
  },
  {
   "cell_type": "code",
   "execution_count": 134,
   "id": "98496584",
   "metadata": {},
   "outputs": [],
   "source": [
    "result = vector_cypher_retriever.search(query_text=query, top_k=10)\n",
    "for item in result.items:\n",
    "    print(item.content[:100])"
   ]
  },
  {
   "cell_type": "code",
   "execution_count": 135,
   "id": "280e3682",
   "metadata": {},
   "outputs": [],
   "source": [
    "result = vector_cypher_retriever.search(query_text=query, top_k=20)\n",
    "for item in result.items:\n",
    "    print(item.content[:100])\n"
   ]
  },
  {
   "cell_type": "markdown",
   "id": "87acb0e8",
   "metadata": {},
   "source": [
    "## Why \"Apple\" Queries Can Fail in Vector-Cypher Retrieval\n",
    "\n",
    "When you ask a question like \"What are the risks that Apple faces?\" using a vector-Cypher retriever, you may not get the structured or complete answer you expect. Here’s why:\n",
    "\n",
    "- **How Vector-Cypher Works:**  \n",
    "  - The retrieval process first performs a semantic search over all text chunks in the graph.\n",
    "  - It retrieves the top-k chunks most similar to your query—regardless of which company (or entity) they are about.\n",
    "  - The Cypher query then starts from each chunk and traverses the graph for related information.\n",
    "\n",
    "- **The Problem with Entity-Centric Queries:**  \n",
    "  - If your query is about \"Apple,\" but there are no chunks whose text is semantically similar to your query and also specifically about Apple, the retriever may return:\n",
    "    - Chunks about other companies.\n",
    "    - Chunks that mention \"risk\" but not \"Apple.\"\n",
    "    - Generic or boilerplate risk factor text.\n",
    "  - The Cypher query can only traverse from the retrieved chunk—it cannot \"filter\" or \"redirect\" to Apple if the chunk isn’t already about Apple.\n",
    "\n",
    "- **Key Limitation:**  \n",
    "  - **The chunk is the anchor.** If your query is about an entity (like Apple), but the chunk retrieval is not entity-aware, you may never reach the correct node or context in the graph.\n",
    "  - This is especially problematic for broad or entity-centric questions, where you want to aggregate or summarize information about a specific node (e.g., a company) rather than just retrieve semantically similar passages.\n",
    "\n",
    "> **Conclusion:**  \n",
    "> Vector-Cypher retrieval is powerful for finding relevant context, but it is fundamentally limited by the chunk-centric approach. For entity-centric questions, you need either:\n",
    "> - Chunks that are explicitly about the entity, or\n",
    "> - A retrieval/query strategy that starts from the entity node itself, not from arbitrary text chunks."
   ]
  },
  {
   "cell_type": "code",
   "execution_count": 136,
   "id": "c18d5973",
   "metadata": {},
   "outputs": [
    {
     "name": "stdout",
     "output_type": "stream",
     "text": [
      "The asset managers most affected by banking regulations are typically those that are integrated or closely aligned with banking institutions. These include bank-owned asset management firms and those that rely heavily on banking channels for distribution. Additionally, asset managers that use significant leverage or engage in complex financial product offerings may also experience more impact from banking regulations, as these regulations can affect the types of investments they can make and the strategies they can employ.\n"
     ]
    }
   ],
   "source": [
    "# --- VectorCypherRetriever Example: Detailed Search with Context ---  OR WHY THIS IS A GOOD QUERY :)\n",
    "asset_manager_query = \"\"\"\n",
    "WITH node\n",
    "MATCH (node)-[:FROM_DOCUMENT]->(doc:Document)-[:FILED]->(company:Company)-[:OWNS]-(manager:AssetManager)\n",
    "RETURN company.name AS company, manager.managerName AS manager, node.text AS context\n",
    "\"\"\"\n",
    "\n",
    "vector_cypher_retriever = VectorCypherRetriever(\n",
    "    driver=driver,\n",
    "    index_name='chunkEmbeddings',\n",
    "    embedder=embedder,\n",
    "    retrieval_query=asset_manager_query\n",
    ")\n",
    "\n",
    "rag = GraphRAG(llm=llm, retriever=vector_cypher_retriever)\n",
    "query = \"Who are the asset managers most affected by banking regulations?\"\n",
    "print(rag.search(query).answer)"
   ]
  },
  {
   "cell_type": "markdown",
   "id": "5c85ef7b",
   "metadata": {},
   "source": [
    "## Let's try another query"
   ]
  },
  {
   "cell_type": "code",
   "execution_count": 137,
   "id": "3dd5e103",
   "metadata": {},
   "outputs": [
    {
     "name": "stdout",
     "output_type": "stream",
     "text": [
      "Asset managers most affected by banking regulations are typically those that are closely integrated with or rely on banks for certain services or products. This includes asset managers that use bank-affiliated platforms for distribution, those that offer pooled investment products subject to stringent regulations, or those that use banks for custodial and transaction services. In addition, larger asset management firms that have investment strategies involving significant interactions with global financial markets may also be affected by banking regulations such as capital requirements, liquidity standards, and risk management guidelines, which can indirectly impact asset allocation and performance.\n"
     ]
    }
   ],
   "source": [
    "## VectorCypherRetriever Example: Detailed Search with Context ---  OR WHY THIS IS A GOOD QUERY :)\n",
    "asset_manager_query = \"\"\"\n",
    "WITH node\n",
    "MATCH (node)-[:FROM_DOCUMENT]->(doc:Document)-[:FILED]->(company:Company)-[:OWNS]-(manager:AssetManager)\n",
    "RETURN company.name AS company, manager.managerName AS manager, node.text AS context\n",
    "\"\"\"\n",
    "\n",
    "vector_cypher_retriever = VectorCypherRetriever(\n",
    "    driver=driver,\n",
    "    index_name='chunkEmbeddings',\n",
    "    embedder=embedder,\n",
    "    retrieval_query=asset_manager_query\n",
    ")\n",
    "\n",
    "rag = GraphRAG(llm=llm, retriever=vector_cypher_retriever)\n",
    "query = \"Who are the asset managers most affected by banking regulations?\"\n",
    "print(rag.search(query).answer)"
   ]
  },
  {
   "cell_type": "markdown",
   "id": "d2380c2c",
   "metadata": {},
   "source": [
    "## VectorCypherRetriever Example: Detailed Search with Context — Why This Is a Good Query\n",
    "\n",
    "This example demonstrates how to use `VectorCypherRetriever` to answer nuanced, relationship-driven questions by combining semantic search with graph traversal.\n",
    "\n",
    "**Why this is a good query:**\n",
    "\n",
    "- **Semantic Relevance:**  \n",
    "  The vector retriever surfaces text chunks that are semantically similar to the question (\"Who are the asset managers most affected by banking regulations?\"). This grounds the search in passages that actually discuss asset managers and regulations.\n",
    "\n",
    "- **Graph Contextualization:**  \n",
    "  The Cypher query starts from each relevant chunk and traverses the graph to:\n",
    "    - Find the source document.\n",
    "    - Identify the company associated with the document.\n",
    "    - Traverse to asset managers that own or are related to that company.\n",
    "\n",
    "- **Structured and Contextual Output:**  \n",
    "  The result provides:\n",
    "    - The company name (`company`)\n",
    "    - The asset manager’s name (`manager`)\n",
    "    - The text context from the original chunk (`context`)\n",
    "\n",
    "- **Why it works well:**  \n",
    "  - The question is naturally chunk-centric: you want to find meaningful passages about asset managers and regulations, then extract structured information about the entities involved.\n",
    "  - The graph traversal enriches the answer, linking unstructured context (text) to structured graph entities (companies, managers).\n",
    "  - This approach leverages the best of both worlds: semantic search for relevance, and graph queries for structure and relationships.\n",
    "\n",
    "**Summary:**  \n",
    "This pattern is ideal when your question is about relationships or context that can be surfaced from relevant passages, and when you want to return both the context and the structured entities connected to it.  \n",
    "It is less effective for purely entity-centric aggregation (like \"all risks for Apple\"), but perfect for questions where the chunk is the natural anchor for graph exploration.\n"
   ]
  },
  {
   "cell_type": "code",
   "execution_count": 138,
   "id": "0df46d7d",
   "metadata": {},
   "outputs": [],
   "source": [
    "result = vector_cypher_retriever.search(query_text=query, top_k=3)\n",
    "for item in result.items:\n",
    "    print(item.content)"
   ]
  },
  {
   "cell_type": "markdown",
   "id": "f5eab943",
   "metadata": {},
   "source": [
    "\n",
    "## VectorCypherRetriever Example: Finding Shared Risks Among Companies\n",
    "\n",
    "This example demonstrates how to combine semantic search with graph traversal to uncover relationships—specifically, risks that connect major tech companies.\n",
    "\n",
    "**How this query works:**\n",
    "\n",
    "- **Semantic Search:**  \n",
    "  The vector retriever finds the top-k text chunks most relevant to your query (\"What risks connect major tech companies?\").\n",
    "\n",
    "- **Graph Traversal:**  \n",
    "  For each retrieved chunk (`node`):\n",
    "  - Follows the `:FROM_DOCUMENT` and `:FILED` relationships to a company (`c1`).\n",
    "  - Finds all risk factors (`risk`) that `c1` faces.\n",
    "  - Finds other companies (`c2`) that also face the same risk factor.\n",
    "  - Ensures that `c1` and `c2` are different companies.\n",
    "\n",
    "- **Returns:**  \n",
    "  - `source_company`: The company from the retrieved chunk.\n",
    "  - `related_companies`: Companies sharing at least one risk with the source company.\n",
    "  - `shared_risks`: The names of the risk factors connecting these companies.\n",
    "\n",
    "- **Why this is powerful:**  \n",
    "  - Leverages the chunk as the semantic anchor, but then uses graph logic to discover structured, multi-entity relationships.\n",
    "  - Surfaces both the context (from the chunk) and the broader network of shared risks—something that pure semantic or pure graph search alone would struggle to do as effectively.\n",
    "\n",
    "> **Summary:**  \n",
    "> This approach is ideal for exploratory questions about relationships in your graph, where you want to start from relevant context but end up with structured, comparative insights.\n"
   ]
  },
  {
   "cell_type": "code",
   "execution_count": 139,
   "id": "ea869189",
   "metadata": {},
   "outputs": [],
   "source": [
    "vector_company_risk_query = \"\"\"\n",
    "WITH node\n",
    "MATCH (node)-[:FROM_DOCUMENT]->(doc:Document)-[:FILED]->(c1:Company)\n",
    "MATCH (c1)-[:FACES_RISK]->(risk:RiskFactor)<-[:FACES_RISK]-(c2:Company)\n",
    "WHERE c1 <> c2\n",
    "RETURN\n",
    "  c1.name AS source_company,\n",
    "  collect(DISTINCT c2.name) AS related_companies,\n",
    "  collect(DISTINCT risk.name) AS shared_risks\n",
    "LIMIT 10\n",
    "\"\"\"\n",
    "\n",
    "vector_cypher_retriever = VectorCypherRetriever(\n",
    "    driver=driver,\n",
    "    index_name=\"chunkEmbeddings\",\n",
    "    embedder=embedder,\n",
    "    retrieval_query=vector_company_risk_query\n",
    ")\n",
    "\n",
    "query = \"What risks connect major tech companies?\"\n",
    "result = vector_cypher_retriever.search(query_text=query, top_k=5)\n",
    "for item in result.items:\n",
    "    print(item.content)"
   ]
  },
  {
   "cell_type": "code",
   "execution_count": 140,
   "id": "8dba3a38",
   "metadata": {},
   "outputs": [
    {
     "name": "stdout",
     "output_type": "stream",
     "text": [
      "Major tech companies face several common risks, including:\n",
      "\n",
      "1. **Cybersecurity Threats**: With vast amounts of sensitive data, tech companies are prime targets for cyber attacks and data breaches.\n",
      "   \n",
      "2. **Regulatory Challenges**: Changing regulations around data privacy, antitrust, and digital content can pose significant challenges.\n",
      "   \n",
      "3. **Intellectual Property Issues**: Protecting patents and facing intellectual property lawsuits are common risks.\n",
      "   \n",
      "4. **Technological Obsolescence**: Rapid technological advancements can render existing products and services obsolete.\n",
      "   \n",
      "5. **Market Competition**: Intense competition from both established companies and startups can impact market share.\n",
      "   \n",
      "6. **Supply Chain Disruptions**: Dependence on global supply chains makes companies vulnerable to disruptions, affecting production and delivery.\n",
      "   \n",
      "7. **Reputation Management**: High-profile controversies or scandals can damage a company's reputation and customer trust.\n",
      "   \n",
      "8. **Economic Fluctuations**: Global economic instability can impact investment, consumer spending, and overall business growth.\n"
     ]
    }
   ],
   "source": [
    "rag = GraphRAG(llm=llm, retriever=vector_cypher_retriever)\n",
    "print(rag.search(query).answer)\n"
   ]
  },
  {
   "cell_type": "markdown",
   "id": "3f54e473",
   "metadata": {},
   "source": [
    "## Text2CypherRetriever Example ---\n",
    "\n",
    "This section demonstrates how to use the `Text2CypherRetriever` to automatically generate Cypher queries from natural language questions.\n",
    "\n",
    "**How it works:**\n",
    "- The retriever uses a Large Language Model (LLM) to translate your plain-English query into a Cypher query, based on your Neo4j schema.\n",
    "- The schema is provided as a string describing the main node types and relationships in your graph (e.g., companies, risk factors, asset managers).\n",
    "\n",
    "**Example Workflow:**\n",
    "1. You provide a natural language question, such as:\n",
    "   > \"What are the company names of companies owned by BlackRock Inc.\"\n",
    "2. The retriever generates a corresponding Cypher query using the schema and the LLM.\n",
    "3. The generated Cypher is printed, allowing you to inspect or execute it.\n",
    "\n",
    "**Why this is powerful:**\n",
    "- Removes the need to manually write Cypher for each question.\n",
    "- Makes graph querying accessible to non-technical users.\n",
    "- Great for rapid prototyping, exploration, and building natural language interfaces to your knowledge graph.\n"
   ]
  },
  {
   "cell_type": "code",
   "execution_count": 144,
   "id": "40db65f5",
   "metadata": {},
   "outputs": [
    {
     "ename": "NameError",
     "evalue": "name 'neo4j_graphrag' is not defined",
     "output_type": "error",
     "traceback": [
      "\u001b[1;31m---------------------------------------------------------------------------\u001b[0m",
      "\u001b[1;31mNameError\u001b[0m                                 Traceback (most recent call last)",
      "Cell \u001b[1;32mIn[144], line 1\u001b[0m\n\u001b[1;32m----> 1\u001b[0m schema \u001b[38;5;241m=\u001b[39m neo4j_graphrag\u001b[38;5;241m.\u001b[39mschema\u001b[38;5;241m.\u001b[39mget_schema(driver)\n\u001b[0;32m      2\u001b[0m \u001b[38;5;28mprint\u001b[39m(schema)\n",
      "\u001b[1;31mNameError\u001b[0m: name 'neo4j_graphrag' is not defined"
     ]
    }
   ],
   "source": [
    "schema = neo4j_graphrag.schema.get_schema(driver)\n",
    "print(schema)"
   ]
  },
  {
   "cell_type": "code",
   "execution_count": 141,
   "id": "ca64551c",
   "metadata": {},
   "outputs": [
    {
     "name": "stdout",
     "output_type": "stream",
     "text": [
      "\n",
      "--- Text2CypherRetriever Example ---\n",
      "\n",
      "--- Text2Cypher Output ---\n",
      "Original Query: what are the company names of companies owned by BlackRock Inc.\n",
      "Generated Cypher:\n",
      " cypher\n",
      "MATCH (c:Company)-[:OWNS]->(:AssetManager {managerName: \"BlackRock Inc.\"})\n",
      "RETURN c.companyName\n",
      "\n"
     ]
    }
   ],
   "source": [
    "# --- Text2CypherRetriever Example ---\n",
    "from requests import session\n",
    "\n",
    "\n",
    "print(\"\\n--- Text2CypherRetriever Example ---\")\n",
    "text2cypher_retriever = Text2CypherRetriever(\n",
    "    driver=driver,\n",
    "    llm=llm,\n",
    "    neo4j_schema=\"(:Chunk)-[]-(:Document)-[:FILED]-(:Company{companyName: str}),(:Company)-[:FACES_RISK]-(:RiskFactor),(:Company)-[:OWNS]-(:AssetManager{managerName: str})\")\n",
    "\n",
    "query = \"what are the company names of companies owned by BlackRock Inc.\"\n",
    "cypher_query = text2cypher_retriever.get_search_results(query)\n",
    "print(\"\\n--- Text2Cypher Output ---\")\n",
    "print(\"Original Query:\", query)\n",
    "print(\"Generated Cypher:\\n\", cypher_query.metadata[\"cypher\"])\n"
   ]
  },
  {
   "cell_type": "markdown",
   "id": "1a9f4872",
   "metadata": {},
   "source": [
    "## Executing the Generated Cypher Query\n",
    "\n",
    "This section runs the Cypher query generated by the `Text2CypherRetriever` and displays the results.\n",
    "\n",
    "**How it works:**\n",
    "- The Cypher query, generated from your natural language question, is executed directly against the Neo4j database using the `driver`.\n",
    "- Each record returned by the query is printed for inspection.\n",
    "\n",
    "**Why this is useful:**\n",
    "- Allows you to see the actual data returned from your graph for your question, closing the loop from natural language to structured results.\n",
    "- Lets you verify both the correctness of the generated Cypher and the quality of the graph data.\n",
    "\n",
    "**Typical workflow:**\n",
    "1. Use the retriever to generate Cypher from your question.\n",
    "2. Execute the Cypher and review the results.\n",
    "3. Iterate on your question or schema as needed to improve answers.\n"
   ]
  },
  {
   "cell_type": "code",
   "execution_count": 143,
   "id": "1753418d",
   "metadata": {},
   "outputs": [],
   "source": [
    "result = driver.execute_query(cypher_query.metadata[\"cypher\"])\n",
    "for record in result.records:\n",
    "    print(record)"
   ]
  }
 ],
 "metadata": {
  "kernelspec": {
   "display_name": "base",
   "language": "python",
   "name": "python3"
  },
  "language_info": {
   "codemirror_mode": {
    "name": "ipython",
    "version": 3
   },
   "file_extension": ".py",
   "mimetype": "text/x-python",
   "name": "python",
   "nbconvert_exporter": "python",
   "pygments_lexer": "ipython3",
   "version": "3.12.7"
  }
 },
 "nbformat": 4,
 "nbformat_minor": 5
}
